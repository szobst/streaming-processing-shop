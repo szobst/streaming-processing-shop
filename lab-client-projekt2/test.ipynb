{
 "cells": [
  {
   "cell_type": "code",
   "execution_count": 10,
   "metadata": {},
   "outputs": [],
   "source": [
    "class pep:\n",
    "    def __init__(self):\n",
    "        self.bu = 4\n",
    "        self.ba = 0\n",
    "    def bobo(self):\n",
    "        if(self.bu == 4):\n",
    "            self.bu = 5\n",
    "            return True\n",
    "        else:\n",
    "            return False"
   ]
  },
  {
   "cell_type": "code",
   "execution_count": 11,
   "metadata": {},
   "outputs": [
    {
     "name": "stdout",
     "output_type": "stream",
     "text": [
      "9\n"
     ]
    },
    {
     "ename": "AttributeError",
     "evalue": "type object 'pep' has no attribute 'bu'",
     "output_type": "error",
     "traceback": [
      "\u001b[1;31m---------------------------------------------------------------------------\u001b[0m",
      "\u001b[1;31mAttributeError\u001b[0m                            Traceback (most recent call last)",
      "Cell \u001b[1;32mIn[11], line 6\u001b[0m\n\u001b[0;32m      3\u001b[0m     bobo\u001b[38;5;241m.\u001b[39mba \u001b[38;5;241m=\u001b[39m \u001b[38;5;241m9\u001b[39m\n\u001b[0;32m      5\u001b[0m \u001b[38;5;28mprint\u001b[39m(bobo\u001b[38;5;241m.\u001b[39mba)\n\u001b[1;32m----> 6\u001b[0m \u001b[38;5;28mprint\u001b[39m(\u001b[43mbobo\u001b[49m\u001b[38;5;241;43m.\u001b[39;49m\u001b[43mbu\u001b[49m)\n",
      "\u001b[1;31mAttributeError\u001b[0m: type object 'pep' has no attribute 'bu'"
     ]
    }
   ],
   "source": [
    "bobo = pep\n",
    "if(bobo.bobo):\n",
    "    bobo.ba = 9\n",
    "\n",
    "print(bobo.ba)\n",
    "print(bobo.bu)"
   ]
  },
  {
   "cell_type": "code",
   "execution_count": 12,
   "metadata": {},
   "outputs": [],
   "source": [
    "class Product:\n",
    "    def __init__(self,name,price,number):\n",
    "        self.name = name\n",
    "        self.price = price\n",
    "        self.number = number\n",
    "        # licznik promocji\n",
    "        self.counter = 0\n",
    "        # liczba sprzedanych do raportu\n",
    "        self.sold = 0\n",
    "        # zarezerwowane\n",
    "        self.reserved = 0\n",
    "        # Blokada\n",
    "\n",
    "    def getLock(self):\n",
    "        return self.blokada\n",
    "    def getSold(self):\n",
    "        return self.sold    \n",
    "    \n",
    "    def getPrice(self):\n",
    "        if(self.counter<10):\n",
    "            return self.price\n",
    "        else:\n",
    "            self.counter = 0\n",
    "            return 0      \n",
    "    def reservation(self,amount):\n",
    "        if(amount<=self.number):\n",
    "            self.number = self.number - amount\n",
    "            self.reserved = self.reserved + amount\n",
    "            return True\n",
    "        else:\n",
    "            return False  \n",
    "    def collection(self,amount):\n",
    "        if(amount<= self.reserved):\n",
    "            self.reserved = self.reserved - amount\n",
    "            self.sold = self.sold + amount\n",
    "            return True\n",
    "        else:\n",
    "            return False\n",
    "            \n",
    "    def supply(self):\n",
    "        self.number = self.number + 1\n",
    "        return True\n",
    "    def getNumber(self):\n",
    "        return self.number\n",
    "    \n",
    "    def zamowienie(self, amiunt):\n",
    "        if(self.number >= amiunt):\n",
    "            self.number = self.number - amiunt \n",
    "            self.sold = self.sold + amiunt\n",
    "            return True\n",
    "        else:\n",
    "            return False"
   ]
  },
  {
   "cell_type": "code",
   "execution_count": 14,
   "metadata": {},
   "outputs": [],
   "source": [
    "kuku = Product('eje',5,100)\n"
   ]
  },
  {
   "cell_type": "code",
   "execution_count": 15,
   "metadata": {},
   "outputs": [
    {
     "name": "stdout",
     "output_type": "stream",
     "text": [
      "100\n",
      "jeaa\n",
      "95\n"
     ]
    }
   ],
   "source": [
    "print(kuku.getNumber())\n",
    "if(kuku.reservation(5)):\n",
    "    print('jeaa')\n",
    "print(kuku.getNumber())"
   ]
  }
 ],
 "metadata": {
  "kernelspec": {
   "display_name": "sklearn-env",
   "language": "python",
   "name": "python3"
  },
  "language_info": {
   "codemirror_mode": {
    "name": "ipython",
    "version": 3
   },
   "file_extension": ".py",
   "mimetype": "text/x-python",
   "name": "python",
   "nbconvert_exporter": "python",
   "pygments_lexer": "ipython3",
   "version": "3.11.3"
  }
 },
 "nbformat": 4,
 "nbformat_minor": 2
}
